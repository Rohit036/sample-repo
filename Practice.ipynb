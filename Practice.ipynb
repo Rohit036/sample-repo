{
  "nbformat": 4,
  "nbformat_minor": 0,
  "metadata": {
    "colab": {
      "name": "Practice.ipynb",
      "provenance": [],
      "collapsed_sections": [],
      "authorship_tag": "ABX9TyMG/1slxZHNacoxoFvs4tra",
      "include_colab_link": true
    },
    "kernelspec": {
      "name": "python3",
      "display_name": "Python 3"
    }
  },
  "cells": [
    {
      "cell_type": "markdown",
      "metadata": {
        "id": "view-in-github",
        "colab_type": "text"
      },
      "source": [
        "<a href=\"https://colab.research.google.com/github/Rohit036/sample-repo/blob/master/Practice.ipynb\" target=\"_parent\"><img src=\"https://colab.research.google.com/assets/colab-badge.svg\" alt=\"Open In Colab\"/></a>"
      ]
    },
    {
      "cell_type": "code",
      "metadata": {
        "id": "oIktcuLqvzWq",
        "colab_type": "code",
        "colab": {}
      },
      "source": [
        "import pandas as pd"
      ],
      "execution_count": 0,
      "outputs": []
    },
    {
      "cell_type": "code",
      "metadata": {
        "id": "4JwJfDqUwIC2",
        "colab_type": "code",
        "colab": {}
      },
      "source": [
        "data = pd.read_csv(\"https://raw.githubusercontent.com/Rohit036/sample-repo/master/weather_2012.csv\")"
      ],
      "execution_count": 0,
      "outputs": []
    },
    {
      "cell_type": "code",
      "metadata": {
        "id": "f8R72_0owLFl",
        "colab_type": "code",
        "colab": {
          "base_uri": "https://localhost:8080/",
          "height": 151
        },
        "outputId": "a65a6701-fa8d-44af-c0fa-f6d5ac3a82dc"
      },
      "source": [
        "print(data.head())"
      ],
      "execution_count": 5,
      "outputs": [
        {
          "output_type": "stream",
          "text": [
            "             Date/Time  Temp (C)  ...  Stn Press (kPa)               Weather\n",
            "0  2012-01-01 00:00:00      -1.8  ...           101.24                   Fog\n",
            "1  2012-01-01 01:00:00      -1.8  ...           101.24                   Fog\n",
            "2  2012-01-01 02:00:00      -1.8  ...           101.26  Freezing Drizzle,Fog\n",
            "3  2012-01-01 03:00:00      -1.5  ...           101.27  Freezing Drizzle,Fog\n",
            "4  2012-01-01 04:00:00      -1.5  ...           101.23                   Fog\n",
            "\n",
            "[5 rows x 8 columns]\n"
          ],
          "name": "stdout"
        }
      ]
    },
    {
      "cell_type": "code",
      "metadata": {
        "id": "03pSu2D8wumX",
        "colab_type": "code",
        "colab": {
          "base_uri": "https://localhost:8080/",
          "height": 67
        },
        "outputId": "c4612417-7f2b-4f46-d747-4bab01d176d8"
      },
      "source": [
        "data.columns"
      ],
      "execution_count": 7,
      "outputs": [
        {
          "output_type": "execute_result",
          "data": {
            "text/plain": [
              "Index(['Date/Time', 'Temp (C)', 'Dew Point Temp (C)', 'Rel Hum (%)',\n",
              "       'Wind Spd (km/h)', 'Visibility (km)', 'Stn Press (kPa)', 'Weather'],\n",
              "      dtype='object')"
            ]
          },
          "metadata": {
            "tags": []
          },
          "execution_count": 7
        }
      ]
    },
    {
      "cell_type": "code",
      "metadata": {
        "id": "mOCBR90KwMS_",
        "colab_type": "code",
        "colab": {
          "base_uri": "https://localhost:8080/",
          "height": 50
        },
        "outputId": "f53a609d-948a-4b86-d56a-c206de270f96"
      },
      "source": [
        "# Find all the unique Wind Speed values recorded in the dataset\n"
      ],
      "execution_count": 8,
      "outputs": [
        {
          "output_type": "stream",
          "text": [
            "[ 4  7  6  9 15 13 20 22 19 24 30 35 39 32 33 26 44 43 48 37 28 17 11  0\n",
            " 83 70 57 46 41 52 50 63 54  2]\n"
          ],
          "name": "stdout"
        }
      ]
    },
    {
      "cell_type": "code",
      "metadata": {
        "id": "RNllEGtKwsnj",
        "colab_type": "code",
        "colab": {
          "base_uri": "https://localhost:8080/",
          "height": 34
        },
        "outputId": "8a7ffc1f-f50c-4125-8b1d-43c8ce2181f4"
      },
      "source": [
        "# Find the number of times when the weather was exactly 'Clear'\n"
      ],
      "execution_count": 10,
      "outputs": [
        {
          "output_type": "execute_result",
          "data": {
            "text/plain": [
              "1326"
            ]
          },
          "metadata": {
            "tags": []
          },
          "execution_count": 10
        }
      ]
    },
    {
      "cell_type": "code",
      "metadata": {
        "id": "Z4dc87-gxD2C",
        "colab_type": "code",
        "colab": {}
      },
      "source": [
        "# Find the number of times when the wind speed was exactly 4 km/h"
      ],
      "execution_count": 0,
      "outputs": []
    },
    {
      "cell_type": "code",
      "metadata": {
        "id": "wENhnQnO0o_B",
        "colab_type": "code",
        "colab": {}
      },
      "source": [
        "# Get the first 3 alternating rows from the weather_df dataframe, but only the Visibility and Relative Humidity columns"
      ],
      "execution_count": 0,
      "outputs": []
    },
    {
      "cell_type": "code",
      "metadata": {
        "id": "hRy-1Lui0pER",
        "colab_type": "code",
        "colab": {
          "base_uri": "https://localhost:8080/",
          "height": 252
        },
        "outputId": "0e37b3e1-791f-4644-a2ac-10c6bb36d286"
      },
      "source": [
        "import pandas as pd\n",
        "diamonds = pd.read_csv('https://raw.githubusercontent.com/mwaskom/seaborn-data/master/diamonds.csv')\n",
        "print(diamonds)"
      ],
      "execution_count": 13,
      "outputs": [
        {
          "output_type": "stream",
          "text": [
            "       carat        cut color clarity  depth  table  price     x     y     z\n",
            "0       0.23      Ideal     E     SI2   61.5   55.0    326  3.95  3.98  2.43\n",
            "1       0.21    Premium     E     SI1   59.8   61.0    326  3.89  3.84  2.31\n",
            "2       0.23       Good     E     VS1   56.9   65.0    327  4.05  4.07  2.31\n",
            "3       0.29    Premium     I     VS2   62.4   58.0    334  4.20  4.23  2.63\n",
            "4       0.31       Good     J     SI2   63.3   58.0    335  4.34  4.35  2.75\n",
            "...      ...        ...   ...     ...    ...    ...    ...   ...   ...   ...\n",
            "53935   0.72      Ideal     D     SI1   60.8   57.0   2757  5.75  5.76  3.50\n",
            "53936   0.72       Good     D     SI1   63.1   55.0   2757  5.69  5.75  3.61\n",
            "53937   0.70  Very Good     D     SI1   62.8   60.0   2757  5.66  5.68  3.56\n",
            "53938   0.86    Premium     H     SI2   61.0   58.0   2757  6.15  6.12  3.74\n",
            "53939   0.75      Ideal     D     SI2   62.2   55.0   2757  5.83  5.87  3.64\n",
            "\n",
            "[53940 rows x 10 columns]\n"
          ],
          "name": "stdout"
        }
      ]
    },
    {
      "cell_type": "code",
      "metadata": {
        "id": "FpyK58Qv0pHo",
        "colab_type": "code",
        "colab": {}
      },
      "source": [
        "# Read a csv file from a specified source and print the first 5 rows"
      ],
      "execution_count": 0,
      "outputs": []
    },
    {
      "cell_type": "code",
      "metadata": {
        "id": "BFpUg4Nc0pCD",
        "colab_type": "code",
        "colab": {
          "base_uri": "https://localhost:8080/",
          "height": 218
        },
        "outputId": "e67bcf48-e1d5-4d9b-9f82-d8a010548bc3"
      },
      "source": [
        "# Select a series from a DataFrame and print. Carat columns\n",
        "print(diamonds['carat'])"
      ],
      "execution_count": 14,
      "outputs": [
        {
          "output_type": "stream",
          "text": [
            "0        0.23\n",
            "1        0.21\n",
            "2        0.23\n",
            "3        0.29\n",
            "4        0.31\n",
            "         ... \n",
            "53935    0.72\n",
            "53936    0.72\n",
            "53937    0.70\n",
            "53938    0.86\n",
            "53939    0.75\n",
            "Name: carat, Length: 53940, dtype: float64\n"
          ],
          "name": "stdout"
        }
      ]
    },
    {
      "cell_type": "code",
      "metadata": {
        "id": "9CBpZCij_g3k",
        "colab_type": "code",
        "colab": {
          "base_uri": "https://localhost:8080/",
          "height": 151
        },
        "outputId": "b6b4e05b-4194-4354-e4ad-8b0384c0812c"
      },
      "source": [
        "# Create a new 'Quality -color' Series of the diamonds DataFrame\n",
        "\n",
        "print(diamonds.head())"
      ],
      "execution_count": 15,
      "outputs": [
        {
          "output_type": "stream",
          "text": [
            "   carat      cut color clarity  depth  ...  price     x     y     z  Quality–color\n",
            "0   0.23    Ideal     E     SI2   61.5  ...    326  3.95  3.98  2.43       Ideal, E\n",
            "1   0.21  Premium     E     SI1   59.8  ...    326  3.89  3.84  2.31     Premium, E\n",
            "2   0.23     Good     E     VS1   56.9  ...    327  4.05  4.07  2.31        Good, E\n",
            "3   0.29  Premium     I     VS2   62.4  ...    334  4.20  4.23  2.63     Premium, I\n",
            "4   0.31     Good     J     SI2   63.3  ...    335  4.34  4.35  2.75        Good, J\n",
            "\n",
            "[5 rows x 11 columns]\n"
          ],
          "name": "stdout"
        }
      ]
    },
    {
      "cell_type": "code",
      "metadata": {
        "id": "nw827fgnALVz",
        "colab_type": "code",
        "colab": {
          "base_uri": "https://localhost:8080/",
          "height": 286
        },
        "outputId": "21f1ec1c-c3c1-4049-d652-4d49f7e2f8af"
      },
      "source": [
        "# Find the number of rows and columns and data type of each column of diamonds Dataframe\n",
        "print(\"Number of rows and columns:\")\n",
        "\n",
        "print(\"\\nData type of each column:\")\n"
      ],
      "execution_count": 16,
      "outputs": [
        {
          "output_type": "stream",
          "text": [
            "Number of rows and columns:\n",
            "(53940, 11)\n",
            "\n",
            "Data type of each column:\n",
            "carat            float64\n",
            "cut               object\n",
            "color             object\n",
            "clarity           object\n",
            "depth            float64\n",
            "table            float64\n",
            "price              int64\n",
            "x                float64\n",
            "y                float64\n",
            "z                float64\n",
            "Quality–color     object\n",
            "dtype: object\n"
          ],
          "name": "stdout"
        }
      ]
    },
    {
      "cell_type": "code",
      "metadata": {
        "id": "nwVlCxSCALeG",
        "colab_type": "code",
        "colab": {
          "base_uri": "https://localhost:8080/",
          "height": 118
        },
        "outputId": "82aa189d-4ec4-4aa2-ef39-1ffd0114482f"
      },
      "source": [
        "# Write a Pandas program to summarize only 'object' columns of the diamonds Dataframe.\n",
        "print(\"Summarize of 'object' columns:\")\n",
        "#print(diamonds.info())\n",
        "print(diamonds.describe(include=['object']))"
      ],
      "execution_count": 23,
      "outputs": [
        {
          "output_type": "stream",
          "text": [
            "Summarize of 'object' columns:\n",
            "          cut  color clarity Quality–color\n",
            "count   53940  53940   53940         53940\n",
            "unique      5      7       8            35\n",
            "top     Ideal      G     SI1      Ideal, G\n",
            "freq    21551  11292   13065          4884\n"
          ],
          "name": "stdout"
        }
      ]
    },
    {
      "cell_type": "code",
      "metadata": {
        "id": "1pL1rH3lALb6",
        "colab_type": "code",
        "colab": {
          "base_uri": "https://localhost:8080/",
          "height": 336
        },
        "outputId": "a69a4953-5c59-4a62-96c0-6e6c6a9d5972"
      },
      "source": [
        "# Rename two of the columns of the diamonds Dataframe\n",
        "print(\"Original Dataframe:\")\n",
        "print(diamonds.head())\n",
        "print(\"\\nAfter renaming two of the columns of the said dataframe:\")\n",
        "\n",
        "print(diamonds.head())"
      ],
      "execution_count": 24,
      "outputs": [
        {
          "output_type": "stream",
          "text": [
            "Original Dataframe:\n",
            "   carat      cut color clarity  depth  ...  price     x     y     z  Quality–color\n",
            "0   0.23    Ideal     E     SI2   61.5  ...    326  3.95  3.98  2.43       Ideal, E\n",
            "1   0.21  Premium     E     SI1   59.8  ...    326  3.89  3.84  2.31     Premium, E\n",
            "2   0.23     Good     E     VS1   56.9  ...    327  4.05  4.07  2.31        Good, E\n",
            "3   0.29  Premium     I     VS2   62.4  ...    334  4.20  4.23  2.63     Premium, I\n",
            "4   0.31     Good     J     SI2   63.3  ...    335  4.34  4.35  2.75        Good, J\n",
            "\n",
            "[5 rows x 11 columns]\n",
            "\n",
            "After renaming two of the columns of the said dataframe:\n",
            "   carat      cut diamond_color dimaond_clarity  ...     x     y     z  Quality–color\n",
            "0   0.23    Ideal             E             SI2  ...  3.95  3.98  2.43       Ideal, E\n",
            "1   0.21  Premium             E             SI1  ...  3.89  3.84  2.31     Premium, E\n",
            "2   0.23     Good             E             VS1  ...  4.05  4.07  2.31        Good, E\n",
            "3   0.29  Premium             I             VS2  ...  4.20  4.23  2.63     Premium, I\n",
            "4   0.31     Good             J             SI2  ...  4.34  4.35  2.75        Good, J\n",
            "\n",
            "[5 rows x 11 columns]\n"
          ],
          "name": "stdout"
        }
      ]
    },
    {
      "cell_type": "code",
      "metadata": {
        "id": "_1PWb4HJALZM",
        "colab_type": "code",
        "colab": {
          "base_uri": "https://localhost:8080/",
          "height": 336
        },
        "outputId": "aa701d87-5d60-4121-c50d-a7308d9f4d20"
      },
      "source": [
        "# Remove the second column of the diamonds Dataframe\n",
        "print(\"Original Dataframe:\")\n",
        "print(diamonds.head())\n",
        "print(\"\\nRemove the second column of the said Dataframe:\")\n",
        "\n",
        "print(diamonds.head())"
      ],
      "execution_count": 25,
      "outputs": [
        {
          "output_type": "stream",
          "text": [
            "Original Dataframe:\n",
            "   carat      cut diamond_color dimaond_clarity  ...     x     y     z  Quality–color\n",
            "0   0.23    Ideal             E             SI2  ...  3.95  3.98  2.43       Ideal, E\n",
            "1   0.21  Premium             E             SI1  ...  3.89  3.84  2.31     Premium, E\n",
            "2   0.23     Good             E             VS1  ...  4.05  4.07  2.31        Good, E\n",
            "3   0.29  Premium             I             VS2  ...  4.20  4.23  2.63     Premium, I\n",
            "4   0.31     Good             J             SI2  ...  4.34  4.35  2.75        Good, J\n",
            "\n",
            "[5 rows x 11 columns]\n",
            "\n",
            "Remove the second column of the said Dataframe:\n",
            "   carat diamond_color dimaond_clarity  depth  ...     x     y     z  Quality–color\n",
            "0   0.23             E             SI2   61.5  ...  3.95  3.98  2.43       Ideal, E\n",
            "1   0.21             E             SI1   59.8  ...  3.89  3.84  2.31     Premium, E\n",
            "2   0.23             E             VS1   56.9  ...  4.05  4.07  2.31        Good, E\n",
            "3   0.29             I             VS2   62.4  ...  4.20  4.23  2.63     Premium, I\n",
            "4   0.31             J             SI2   63.3  ...  4.34  4.35  2.75        Good, J\n",
            "\n",
            "[5 rows x 10 columns]\n"
          ],
          "name": "stdout"
        }
      ]
    },
    {
      "cell_type": "code",
      "metadata": {
        "id": "uR-W8JNfEhEu",
        "colab_type": "code",
        "colab": {}
      },
      "source": [
        ""
      ],
      "execution_count": 0,
      "outputs": []
    }
  ]
}